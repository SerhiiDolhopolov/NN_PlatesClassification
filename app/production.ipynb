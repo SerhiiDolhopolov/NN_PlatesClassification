{
 "cells": [
  {
   "cell_type": "code",
   "execution_count": 1,
   "id": "8056a749",
   "metadata": {},
   "outputs": [],
   "source": [
    "from pathlib import Path\n",
    "\n",
    "from efficient_b2 import get_model\n",
    "from augmentation import AugmentationEfficientnet_b2\n",
    "from deploy_func import image_predict, compute_precision, compute_recall, compute_f1\n",
    "from config import TEST_DATA_PATH"
   ]
  },
  {
   "cell_type": "code",
   "execution_count": 2,
   "id": "196e69fc",
   "metadata": {},
   "outputs": [
    {
     "name": "stderr",
     "output_type": "stream",
     "text": [
      "e:\\Programming\\PlatesClassification\\.venv\\Lib\\site-packages\\torchvision\\models\\_utils.py:223: UserWarning: Arguments other than a weight enum or `None` for 'weights' are deprecated since 0.13 and may be removed in the future. The current behavior is equivalent to passing `weights=EfficientNet_B2_Weights.IMAGENET1K_V1`. You can also use `weights=EfficientNet_B2_Weights.DEFAULT` to get the most up-to-date weights.\n",
      "  warnings.warn(msg)\n"
     ]
    }
   ],
   "source": [
    "model = get_model('EfficientNet/EfficientNet_epoch_8.pth')"
   ]
  },
  {
   "cell_type": "code",
   "execution_count": 3,
   "id": "2a8d0e1f",
   "metadata": {},
   "outputs": [
    {
     "data": {
      "text/plain": [
       "(0, 0.8551782965660095)"
      ]
     },
     "execution_count": 3,
     "metadata": {},
     "output_type": "execute_result"
    }
   ],
   "source": [
    "image_predict('../data/test/clean/1001.jpg', AugmentationEfficientnet_b2, model)"
   ]
  },
  {
   "cell_type": "code",
   "execution_count": 4,
   "id": "bfd138d4",
   "metadata": {},
   "outputs": [],
   "source": [
    "path = Path(TEST_DATA_PATH)\n",
    "pred_values = []\n",
    "true_values = []\n",
    "\n",
    "class_num = 0\n",
    "for class_type in path.iterdir():\n",
    "    for file in class_type.iterdir():\n",
    "        if file.suffix.lower() in ['.jpg', '.jpeg', '.png', '.bmp', '.gif']:\n",
    "            label, probability = image_predict(str(file), AugmentationEfficientnet_b2, model)\n",
    "            true_values.append(class_num)\n",
    "            pred_values.append(label)\n",
    "    class_num += 1"
   ]
  },
  {
   "cell_type": "code",
   "execution_count": 5,
   "id": "fa13e9ee",
   "metadata": {},
   "outputs": [
    {
     "name": "stdout",
     "output_type": "stream",
     "text": [
      "198/219 Accuracy: 90.41%\n"
     ]
    }
   ],
   "source": [
    "compar_list = [a == b for a, b in zip(true_values, pred_values)]\n",
    "true_sum = sum(compar_list)\n",
    "count = len(compar_list)\n",
    "accuracy = true_sum / count\n",
    "\n",
    "print(f'{true_sum}/{count} Accuracy: {accuracy:.2%}')"
   ]
  },
  {
   "cell_type": "code",
   "execution_count": 6,
   "id": "cc3e92f6",
   "metadata": {},
   "outputs": [
    {
     "name": "stdout",
     "output_type": "stream",
     "text": [
      "Precision: 0.9067376852035522\n",
      "Recall: 0.9042952656745911\n",
      "F1: 0.9039814472198486\n"
     ]
    }
   ],
   "source": [
    "print('Precision:', compute_precision(true_values, pred_values, class_num))\n",
    "print('Recall:', compute_recall(true_values, pred_values, class_num))\n",
    "print('F1:', compute_f1(true_values, pred_values, class_num))"
   ]
  },
  {
   "cell_type": "code",
   "execution_count": null,
   "id": "3d92212c",
   "metadata": {},
   "outputs": [],
   "source": []
  }
 ],
 "metadata": {
  "kernelspec": {
   "display_name": ".venv",
   "language": "python",
   "name": "python3"
  },
  "language_info": {
   "codemirror_mode": {
    "name": "ipython",
    "version": 3
   },
   "file_extension": ".py",
   "mimetype": "text/x-python",
   "name": "python",
   "nbconvert_exporter": "python",
   "pygments_lexer": "ipython3",
   "version": "3.11.9"
  }
 },
 "nbformat": 4,
 "nbformat_minor": 5
}
